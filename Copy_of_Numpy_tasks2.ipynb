{
  "cells": [
    {
      "cell_type": "markdown",
      "metadata": {
        "id": "view-in-github",
        "colab_type": "text"
      },
      "source": [
        "<a href=\"https://colab.research.google.com/github/Jeniferjayapriya/LoginValidation/blob/main/Copy_of_Numpy_tasks2.ipynb\" target=\"_parent\"><img src=\"https://colab.research.google.com/assets/colab-badge.svg\" alt=\"Open In Colab\"/></a>"
      ]
    },
    {
      "cell_type": "markdown",
      "source": [],
      "metadata": {
        "id": "q5mK4WBEbdfk"
      }
    },
    {
      "cell_type": "code",
      "source": [],
      "metadata": {
        "id": "jEDMZ5hqbc-G"
      },
      "execution_count": null,
      "outputs": []
    },
    {
      "cell_type": "markdown",
      "source": [],
      "metadata": {
        "id": "XOT46nfBbcbD"
      }
    },
    {
      "cell_type": "code",
      "source": [],
      "metadata": {
        "id": "TGsm5JABbb2V"
      },
      "execution_count": null,
      "outputs": []
    },
    {
      "cell_type": "markdown",
      "metadata": {
        "id": "X9mvqCKvXx9N"
      },
      "source": [
        "# Numpy\n",
        "\n"
      ]
    },
    {
      "cell_type": "markdown",
      "metadata": {
        "id": "aJjEHwN7Xx9Q"
      },
      "source": [
        "#### 1. Import the numpy package under the name `np` (★☆☆) \n",
        "(**hint**: import … as …)"
      ]
    },
    {
      "cell_type": "code",
      "execution_count": null,
      "metadata": {
        "collapsed": true,
        "id": "MnRo7NNwXx9Q"
      },
      "outputs": [],
      "source": [
        "import numpy as np"
      ]
    },
    {
      "cell_type": "markdown",
      "metadata": {
        "id": "hswO4k7eXx9R"
      },
      "source": [
        "#### 2. Print the numpy version and the configuration (★☆☆) \n",
        "(**hint**: np.\\_\\_version\\_\\_, np.show\\_config)"
      ]
    },
    {
      "cell_type": "code",
      "execution_count": null,
      "metadata": {
        "id": "FE246rmPXx9S",
        "outputId": "1aba67bc-87e0-47df-bf28-8bf41e23fb95",
        "colab": {
          "base_uri": "https://localhost:8080/",
          "height": 165
        }
      },
      "outputs": [
        {
          "output_type": "error",
          "ename": "NameError",
          "evalue": "ignored",
          "traceback": [
            "\u001b[0;31m---------------------------------------------------------------------------\u001b[0m",
            "\u001b[0;31mNameError\u001b[0m                                 Traceback (most recent call last)",
            "\u001b[0;32m<ipython-input-2-9c7a92f4fa75>\u001b[0m in \u001b[0;36m<module>\u001b[0;34m\u001b[0m\n\u001b[0;32m----> 1\u001b[0;31m \u001b[0mnp_version_\u001b[0m\u001b[0;34m\u001b[0m\u001b[0;34m\u001b[0m\u001b[0m\n\u001b[0m",
            "\u001b[0;31mNameError\u001b[0m: name 'np_version_' is not defined"
          ]
        }
      ],
      "source": [
        "np_version_"
      ]
    },
    {
      "cell_type": "markdown",
      "metadata": {
        "id": "QYxDp4SXXx9S"
      },
      "source": [
        "#### 3. Create a null vector of size 10 (★☆☆) \n",
        "(**hint**: np.zeros)"
      ]
    },
    {
      "cell_type": "code",
      "execution_count": null,
      "metadata": {
        "id": "hUx9D_DOXx9S",
        "outputId": "60731859-a2f6-4174-e18d-5cdf3d3d764f",
        "colab": {
          "base_uri": "https://localhost:8080/"
        }
      },
      "outputs": [
        {
          "output_type": "stream",
          "name": "stdout",
          "text": [
            "[0. 0. 0. 0. 0. 0. 0. 0. 0. 0.]\n",
            "Update sixth value to 11\n",
            "[ 0.  0.  0.  0.  0.  0. 11.  0.  0.  0.]\n"
          ]
        }
      ],
      "source": [
        "import numpy as np\n",
        "x = np.zeros(10)\n",
        "print(x)\n",
        "print(\"Update sixth value to 11\")\n",
        "x[6] = 11\n",
        "print(x)"
      ]
    },
    {
      "cell_type": "markdown",
      "metadata": {
        "id": "kSaVQn-rXx9T"
      },
      "source": [
        "#### 4.  How to find the memory size of any array (★☆☆) \n",
        "(**hint**: size, itemsize)"
      ]
    },
    {
      "cell_type": "code",
      "execution_count": null,
      "metadata": {
        "id": "qHkgF2SgXx9T",
        "outputId": "5fb8dbbc-5860-4c84-dbb5-f36308a87873",
        "colab": {
          "base_uri": "https://localhost:8080/"
        }
      },
      "outputs": [
        {
          "output_type": "stream",
          "name": "stdout",
          "text": [
            "Size of the array:  3\n",
            "Memory size of one array element in bytes:  8\n",
            "Memory size of numpy array in bytes: 24\n"
          ]
        }
      ],
      "source": [
        "# import library\n",
        "import numpy as np\n",
        "\n",
        "# create a numpy 1d-array\n",
        "x = np.array([100,20,34])\n",
        "\n",
        "print(\"Size of the array: \",\n",
        " x.size)\n",
        "\n",
        "print(\"Memory size of one array element in bytes: \",\n",
        " x.itemsize)\n",
        "\n",
        "# memory size of numpy array in bytes\n",
        "print(\"Memory size of numpy array in bytes:\",\n",
        " x.size * x.itemsize)\n"
      ]
    },
    {
      "cell_type": "markdown",
      "metadata": {
        "id": "hfa6yC0VXx9U"
      },
      "source": [
        "#### 5.  How to get the documentation of the numpy add function from the command line? (★☆☆) \n",
        "(**hint**: np.info)"
      ]
    },
    {
      "cell_type": "code",
      "execution_count": null,
      "metadata": {
        "collapsed": true,
        "id": "w7zw_CIcXx9U",
        "outputId": "67c9a010-219f-45e2-d8b6-cd6cc6e4b205",
        "colab": {
          "base_uri": "https://localhost:8080/"
        }
      },
      "outputs": [
        {
          "output_type": "stream",
          "name": "stdout",
          "text": [
            "1st Input number :  10\n",
            "2nd Input number :  15\n",
            "output number after addition :  25\n"
          ]
        }
      ],
      "source": [
        "# Python program explaining\n",
        "# numpy.add() function\n",
        "# when inputs are scalar\n",
        "\n",
        "import numpy as geek\n",
        "in_num1 = 10\n",
        "in_num2 = 15\n",
        "\n",
        "print (\"1st Input number : \", in_num1)\n",
        "print (\"2nd Input number : \", in_num2)\n",
        " \n",
        "out_num = geek.add(in_num1, in_num2)\n",
        "print (\"output number after addition : \", out_num)\n"
      ]
    },
    {
      "cell_type": "markdown",
      "metadata": {
        "id": "yE3Z_dF1Xx9V"
      },
      "source": [
        "#### 6.  Create a null vector of size 10 but the fifth value which is 1 (★☆☆) \n",
        "(**hint**: array\\[4\\])"
      ]
    },
    {
      "cell_type": "code",
      "execution_count": null,
      "metadata": {
        "id": "K3dMq9hTXx9V",
        "outputId": "5e6893ca-8f11-4a02-e73b-e3728198fb67",
        "colab": {
          "base_uri": "https://localhost:8080/",
          "height": 130
        }
      },
      "outputs": [
        {
          "output_type": "error",
          "ename": "SyntaxError",
          "evalue": "ignored",
          "traceback": [
            "\u001b[0;36m  File \u001b[0;32m\"<ipython-input-5-792347e74d8e>\"\u001b[0;36m, line \u001b[0;32m2\u001b[0m\n\u001b[0;31m    z(4) = 1\u001b[0m\n\u001b[0m            ^\u001b[0m\n\u001b[0;31mSyntaxError\u001b[0m\u001b[0;31m:\u001b[0m can't assign to function call\n"
          ]
        }
      ],
      "source": [
        "z = np.zeros(10)\n",
        "z(4) = 1\n",
        "print(z)"
      ]
    },
    {
      "cell_type": "markdown",
      "metadata": {
        "id": "_jxjxY3qXx9V"
      },
      "source": [
        "#### 7.  Create a vector with values ranging from 10 to 49 (★☆☆) \n",
        "(**hint**: np.arange)"
      ]
    },
    {
      "cell_type": "code",
      "execution_count": null,
      "metadata": {
        "id": "qPMrKMuMXx9W",
        "outputId": "1158a6ae-2d2e-44cb-a3ef-a89b76dd05dd",
        "colab": {
          "base_uri": "https://localhost:8080/"
        }
      },
      "outputs": [
        {
          "output_type": "stream",
          "name": "stdout",
          "text": [
            "[47 46 19 23 39 30 46 34 14 30]\n"
          ]
        }
      ],
      "source": [
        "import numpy as np\n",
        "a=np.random.randint(10,49,size=(10))\n",
        "print(a)"
      ]
    },
    {
      "cell_type": "markdown",
      "metadata": {
        "id": "1OFPz2CqXx9W"
      },
      "source": [
        "#### 8.  Reverse a vector (first element becomes last) (★☆☆) \n",
        "(**hint**: array\\[::-1\\])"
      ]
    },
    {
      "cell_type": "code",
      "execution_count": null,
      "metadata": {
        "id": "WzhG7ZSQXx9W",
        "outputId": "51aece10-ac47-44b5-9775-aa5ff01de2a7",
        "colab": {
          "base_uri": "https://localhost:8080/",
          "height": 130
        }
      },
      "outputs": [
        {
          "output_type": "error",
          "ename": "IndentationError",
          "evalue": "ignored",
          "traceback": [
            "\u001b[0;36m  File \u001b[0;32m\"<ipython-input-8-62ed3ea3df9c>\"\u001b[0;36m, line \u001b[0;32m3\u001b[0m\n\u001b[0;31m    print(a)\u001b[0m\n\u001b[0m    ^\u001b[0m\n\u001b[0;31mIndentationError\u001b[0m\u001b[0;31m:\u001b[0m unexpected indent\n"
          ]
        }
      ],
      "source": [
        "import numpy as np\n",
        "a = np.random.randint(0,10,size=(10))\n",
        " print(a)"
      ]
    },
    {
      "cell_type": "markdown",
      "metadata": {
        "id": "Dz9KnsEHXx9W"
      },
      "source": [
        "#### 9.  Create a 3x3 matrix with values ranging from 0 to 8 (★☆☆) \n",
        "(**hint**: reshape)"
      ]
    },
    {
      "cell_type": "code",
      "execution_count": null,
      "metadata": {
        "id": "X9ULO3F8Xx9X",
        "outputId": "f81e32e8-5379-4d39-a985-feac7504e1cd",
        "colab": {
          "base_uri": "https://localhost:8080/"
        }
      },
      "outputs": [
        {
          "output_type": "stream",
          "name": "stdout",
          "text": [
            "[[0 1 2]\n",
            " [3 4 5]\n",
            " [6 7 8]]\n"
          ]
        }
      ],
      "source": [
        "arr = np.arange(0,9).reshape(3,3)\n",
        "\n",
        "print(arr)"
      ]
    },
    {
      "cell_type": "markdown",
      "metadata": {
        "id": "ndm80BK5Xx9X"
      },
      "source": [
        "#### 10. Find indices of non-zero elements from \\[1,2,0,0,4,0\\] (★☆☆) \n",
        "(**hint**: np.nonzero)"
      ]
    },
    {
      "cell_type": "code",
      "execution_count": null,
      "metadata": {
        "id": "Uw_aSrKpXx9X",
        "outputId": "b5d4e73f-30c2-4394-8fd2-0cbcf6b53484",
        "colab": {
          "base_uri": "https://localhost:8080/",
          "height": 130
        }
      },
      "outputs": [
        {
          "output_type": "error",
          "ename": "IndentationError",
          "evalue": "ignored",
          "traceback": [
            "\u001b[0;36m  File \u001b[0;32m\"<ipython-input-10-8bc19dcedc27>\"\u001b[0;36m, line \u001b[0;32m4\u001b[0m\n\u001b[0;31m    3-element Array{Int64,1}:\u001b[0m\n\u001b[0m    ^\u001b[0m\n\u001b[0;31mIndentationError\u001b[0m\u001b[0;31m:\u001b[0m unexpected indent\n"
          ]
        }
      ],
      "source": [
        "A = [1,2,0,0,4,0]\n",
        "find(A)\n",
        "\n",
        " 3-element Array{Int64,1}:\n",
        " 1\n",
        " 2\n",
        " 5"
      ]
    },
    {
      "cell_type": "markdown",
      "metadata": {
        "id": "tR1aQuR-Xx9X"
      },
      "source": [
        "#### 11. Create a 3x3 identity matrix (★☆☆) \n",
        "(**hint**: np.eye)"
      ]
    },
    {
      "cell_type": "code",
      "execution_count": null,
      "metadata": {
        "id": "Za4kzl93Xx9X",
        "outputId": "76097750-60fc-43bc-e4a3-9266c5088a6c",
        "colab": {
          "base_uri": "https://localhost:8080/"
        }
      },
      "outputs": [
        {
          "output_type": "stream",
          "name": "stdout",
          "text": [
            "3x3 matrix:\n",
            "[[1. 0. 0.]\n",
            " [0. 1. 0.]\n",
            " [0. 0. 1.]]\n"
          ]
        }
      ],
      "source": [
        "import numpy as np\n",
        "array_2D=np.identity(3)\n",
        "print('3x3 matrix:')\n",
        "print(array_2D)"
      ]
    },
    {
      "cell_type": "markdown",
      "metadata": {
        "id": "CKULs4PnXx9X"
      },
      "source": [
        "#### 12. Create a 3x3x3 array with random values (★☆☆) \n",
        "(**hint**: np.random.random)"
      ]
    },
    {
      "cell_type": "code",
      "execution_count": null,
      "metadata": {
        "collapsed": true,
        "id": "8IGqLqdnXx9Y",
        "outputId": "fb6cb006-8954-4015-d4a4-b06d26aa7ee3",
        "colab": {
          "base_uri": "https://localhost:8080/"
        }
      },
      "outputs": [
        {
          "output_type": "stream",
          "name": "stdout",
          "text": [
            "[[[0.24823869 0.13637027 0.30665493]\n",
            "  [0.56274065 0.0884375  0.05985002]\n",
            "  [0.6197103  0.18388128 0.52109721]]\n",
            "\n",
            " [[0.14242676 0.50268047 0.67601399]\n",
            "  [0.12389487 0.77063056 0.62406374]\n",
            "  [0.15868096 0.11682034 0.21871614]]\n",
            "\n",
            " [[0.30746904 0.66401432 0.63315613]\n",
            "  [0.01502284 0.57848323 0.24060575]\n",
            "  [0.46179571 0.99860408 0.85722541]]]\n"
          ]
        }
      ],
      "source": [
        "import numpy as np\n",
        "x = np.random.random((3,3,3))\n",
        "print(x)"
      ]
    },
    {
      "cell_type": "markdown",
      "metadata": {
        "id": "_8KMzGHnXx9Y"
      },
      "source": [
        "#### 13. Create a 10x10 array with random values and find the minimum and maximum values (★☆☆) \n",
        "(**hint**: min, max)"
      ]
    },
    {
      "cell_type": "code",
      "execution_count": null,
      "metadata": {
        "id": "sDRCJeAiXx9Y",
        "outputId": "6a21e68e-f2a6-47cd-8451-a360b744f5d5",
        "colab": {
          "base_uri": "https://localhost:8080/"
        }
      },
      "outputs": [
        {
          "output_type": "stream",
          "name": "stdout",
          "text": [
            "Original Array:\n",
            "[[0.8678176  0.09874838 0.77016017 0.42966698 0.56602952 0.40420971\n",
            "  0.89773746 0.90053736 0.74604415 0.65793101]\n",
            " [0.76764126 0.8594039  0.91108929 0.41583194 0.48415646 0.83609726\n",
            "  0.18091632 0.23437424 0.7451798  0.39373061]\n",
            " [0.84632657 0.64566436 0.97671593 0.40862707 0.82188657 0.40956\n",
            "  0.0999202  0.33502894 0.12423891 0.70180931]\n",
            " [0.61355576 0.21485636 0.72877651 0.96253455 0.76867344 0.90758675\n",
            "  0.27163238 0.67878701 0.49854482 0.36429154]\n",
            " [0.68596863 0.87396317 0.885521   0.58610468 0.5644943  0.47122777\n",
            "  0.26785044 0.40851792 0.31565598 0.43074099]\n",
            " [0.03546997 0.63157778 0.58437376 0.47032514 0.66517625 0.55345908\n",
            "  0.08114228 0.10416991 0.45513659 0.83814582]\n",
            " [0.95282256 0.77365947 0.68193603 0.96447649 0.39993807 0.61834505\n",
            "  0.74788566 0.67466874 0.85431258 0.65048792]\n",
            " [0.49511877 0.87960026 0.73051691 0.06926175 0.94443326 0.87087104\n",
            "  0.2694484  0.13412827 0.21906021 0.36832674]\n",
            " [0.12797919 0.32778441 0.1916402  0.12988795 0.23160714 0.07454474\n",
            "  0.07697081 0.95096571 0.79509442 0.5655145 ]\n",
            " [0.51814126 0.81141468 0.71423978 0.48336059 0.56003281 0.34237784\n",
            "  0.53072056 0.45665785 0.6413577  0.12903905]]\n",
            "Minimum and Maximum Values:\n",
            "0.03546996554038051 0.9767159339904704\n"
          ]
        }
      ],
      "source": [
        "import numpy as np\n",
        "x = np.random.random((10,10))\n",
        "print(\"Original Array:\")\n",
        "print(x) \n",
        "xmin, xmax = x.min(), x.max()\n",
        "print(\"Minimum and Maximum Values:\")\n",
        "print(xmin, xmax)\n"
      ]
    },
    {
      "cell_type": "markdown",
      "metadata": {
        "id": "g5JGhaIXXx9Y"
      },
      "source": [
        "#### 14. Create a random vector of size 30 and find the mean value (★☆☆) \n",
        "(**hint**: mean)"
      ]
    },
    {
      "cell_type": "code",
      "execution_count": null,
      "metadata": {
        "id": "CcU_cZ2SXx9Y",
        "outputId": "c1657c5c-2166-4352-c733-c1322d60e3af",
        "colab": {
          "base_uri": "https://localhost:8080/"
        }
      },
      "outputs": [
        {
          "output_type": "stream",
          "name": "stdout",
          "text": [
            "[76 23 52 15 86 18 38 40 54 19  6 35 73 68 72 92 90  4 28 61 42 97  7 34\n",
            " 71 12 70 21 13  9]\n"
          ]
        }
      ],
      "source": [
        "import numpy as np\n",
        "a= np.random.randint(0,100,size=(30))\n",
        "print(a)"
      ]
    },
    {
      "cell_type": "markdown",
      "metadata": {
        "id": "jgLK4yO_Xx9Y"
      },
      "source": [
        "#### 15. Create a 2d array with 1 on the border and 0 inside (★☆☆) \n",
        "(**hint**: array\\[1:-1, 1:-1\\])"
      ]
    },
    {
      "cell_type": "code",
      "execution_count": null,
      "metadata": {
        "id": "NabA7x5WXx9Y",
        "outputId": "09890d0c-39a1-4260-d343-7df398c9446b",
        "colab": {
          "base_uri": "https://localhost:8080/"
        }
      },
      "outputs": [
        {
          "output_type": "stream",
          "name": "stdout",
          "text": [
            "Original array:\n",
            "[[1. 1. 1. 1. 1.]\n",
            " [1. 1. 1. 1. 1.]\n",
            " [1. 1. 1. 1. 1.]\n",
            " [1. 1. 1. 1. 1.]\n",
            " [1. 1. 1. 1. 1.]]\n",
            "1 on the border and 0 inside in the array\n",
            "[[1. 1. 1. 1. 1.]\n",
            " [1. 0. 0. 0. 1.]\n",
            " [1. 0. 0. 0. 1.]\n",
            " [1. 0. 0. 0. 1.]\n",
            " [1. 1. 1. 1. 1.]]\n"
          ]
        }
      ],
      "source": [
        "import numpy as np\n",
        "x = np.ones((5,5))\n",
        "print(\"Original array:\")\n",
        "print(x)\n",
        "print(\"1 on the border and 0 inside in the array\")\n",
        "x[1:-1,1:-1] = 0\n",
        "print(x)"
      ]
    },
    {
      "cell_type": "markdown",
      "metadata": {
        "id": "zmK2DD1hXx9Y"
      },
      "source": [
        "#### 16. How to add a border (filled with 0's) around an existing array? (★☆☆) \n",
        "(**hint**: np.pad)"
      ]
    },
    {
      "cell_type": "code",
      "execution_count": null,
      "metadata": {
        "id": "abHL2AIAXx9Y",
        "outputId": "72255ed3-9d8a-4cb8-aeae-401d75544324",
        "colab": {
          "base_uri": "https://localhost:8080/"
        }
      },
      "outputs": [
        {
          "output_type": "stream",
          "name": "stdout",
          "text": [
            "Original array\n",
            "[[1. 1.]\n",
            " [1. 1.]]\n",
            "\n",
            "0 on the border and 1 inside the array\n",
            "[[0. 0. 0. 0.]\n",
            " [0. 1. 1. 0.]\n",
            " [0. 1. 1. 0.]\n",
            " [0. 0. 0. 0.]]\n"
          ]
        }
      ],
      "source": [
        "# importing Numpy package\n",
        "import numpy as np\n",
        "\n",
        "# Creating a 2X2 Numpy matrix\n",
        "array = np.ones((2, 2))\n",
        "\n",
        "print(\"Original array\")\n",
        "print(array)\n",
        "\n",
        "print(\"\\n0 on the border and 1 inside the array\")\n",
        "\n",
        "# constructing border of 0 around 2D identity matrix\n",
        "# using np.pad()\n",
        "array = np.pad(array, pad_width=1, mode='constant',\n",
        "   constant_values=0)\n",
        "\n",
        "print(array)\n"
      ]
    },
    {
      "cell_type": "markdown",
      "metadata": {
        "id": "KX7BPm7-Xx9Y"
      },
      "source": [
        "#### 17. What is the result of the following expression? (★☆☆) \n",
        "(**hint**: NaN = not a number, inf = infinity)"
      ]
    },
    {
      "cell_type": "markdown",
      "metadata": {
        "id": "_kFGNRZcXx9Z"
      },
      "source": [
        "```python\n",
        "0 * np.nan\n",
        "np.nan == np.nan\n",
        "np.inf > np.nan\n",
        "np.nan - np.nan\n",
        "0.3 == 3 * 0.1\n",
        "```"
      ]
    },
    {
      "cell_type": "code",
      "execution_count": null,
      "metadata": {
        "id": "9RoU-PccXx9Z"
      },
      "outputs": [],
      "source": []
    },
    {
      "cell_type": "markdown",
      "metadata": {
        "id": "-XxHrnNoXx9Z"
      },
      "source": [
        "#### 18. Create a 5x5 matrix with values 1,2,3,4 just below the diagonal (★☆☆) \n",
        "(**hint**: np.diag)"
      ]
    },
    {
      "cell_type": "code",
      "execution_count": null,
      "metadata": {
        "id": "iNthMRgUXx9Z",
        "outputId": "200cc20b-87d1-4ba0-9c0b-81e382531ef0",
        "colab": {
          "base_uri": "https://localhost:8080/"
        }
      },
      "outputs": [
        {
          "output_type": "stream",
          "name": "stdout",
          "text": [
            "[[1 0 0 0 0]\n",
            " [0 2 0 0 0]\n",
            " [0 0 3 0 0]\n",
            " [0 0 0 4 0]\n",
            " [0 0 0 0 5]]\n"
          ]
        }
      ],
      "source": [
        "import numpy as np\n",
        "x = np.diag([1, 2, 3, 4, 5])\n",
        "print(x)"
      ]
    },
    {
      "cell_type": "markdown",
      "metadata": {
        "id": "ogcQNqrJXx9Z"
      },
      "source": [
        "#### 19. Create a 8x8 matrix and fill it with a checkerboard pattern (★☆☆) \n",
        "(**hint**: array\\[::2\\])"
      ]
    },
    {
      "cell_type": "code",
      "execution_count": null,
      "metadata": {
        "id": "uvP-Rb38Xx9Z",
        "outputId": "c301a5a9-de79-46ca-d301-576d6f86bf30",
        "colab": {
          "base_uri": "https://localhost:8080/"
        }
      },
      "outputs": [
        {
          "output_type": "stream",
          "name": "stdout",
          "text": [
            "Checkerboard pattern:\n",
            "[[0 1 0 1 0 1 0 1]\n",
            " [1 0 1 0 1 0 1 0]\n",
            " [0 1 0 1 0 1 0 1]\n",
            " [1 0 1 0 1 0 1 0]\n",
            " [0 1 0 1 0 1 0 1]\n",
            " [1 0 1 0 1 0 1 0]\n",
            " [0 1 0 1 0 1 0 1]\n",
            " [1 0 1 0 1 0 1 0]]\n"
          ]
        }
      ],
      "source": [
        "import numpy as np\n",
        "x = np.ones((3,3))\n",
        "print(\"Checkerboard pattern:\")\n",
        "x = np.zeros((8,8),dtype=int)\n",
        "x[1::2,::2] = 1\n",
        "x[::2,1::2] = 1\n",
        "print(x)\n"
      ]
    },
    {
      "cell_type": "markdown",
      "metadata": {
        "id": "tTNfoh6sXx9Z"
      },
      "source": [
        "#### 20. Consider a (6,7,8) shape array, what is the index (x,y,z) of the 100th element? \n",
        "(**hint**: np.unravel_index)"
      ]
    },
    {
      "cell_type": "code",
      "execution_count": null,
      "metadata": {
        "id": "HFn3mTMhXx9Z",
        "outputId": "cd6417fd-3372-41ba-c71a-82ee8be90ea2",
        "colab": {
          "base_uri": "https://localhost:8080/"
        }
      },
      "outputs": [
        {
          "output_type": "stream",
          "name": "stdout",
          "text": [
            "5 6 0\n"
          ]
        }
      ],
      "source": [
        "import numpy as np\n",
        "a=np.ones((6,7,8))\n",
        "m=0\n",
        "for i in range(6):\n",
        "  for j in range (7):\n",
        "    for k in range(8):\n",
        "      \n",
        "      if(m==100):\n",
        "       break\n",
        "      m=m+1\n",
        "print(i,j,k)"
      ]
    },
    {
      "cell_type": "markdown",
      "metadata": {
        "id": "HumT_7bdXx9a"
      },
      "source": [
        "#### 21. Create a checkerboard 8x8 matrix using the tile function (★☆☆) \n",
        "(**hint**: np.tile)"
      ]
    },
    {
      "cell_type": "code",
      "execution_count": null,
      "metadata": {
        "id": "CdQK_yESXx9a",
        "outputId": "1fee2880-0cab-4f89-acd5-2048a72a7ece",
        "colab": {
          "base_uri": "https://localhost:8080/"
        }
      },
      "outputs": [
        {
          "output_type": "stream",
          "name": "stdout",
          "text": [
            "[[[[[[[[0 1 0 1 0 1 0 1]\n",
            "       [0 1 0 1 0 1 0 1]\n",
            "       [0 1 0 1 0 1 0 1]\n",
            "       [0 1 0 1 0 1 0 1]\n",
            "       [0 1 0 1 0 1 0 1]\n",
            "       [0 1 0 1 0 1 0 1]\n",
            "       [0 1 0 1 0 1 0 1]\n",
            "       [0 1 0 1 0 1 0 1]]]]]]]]\n"
          ]
        }
      ],
      "source": [
        "import numpy as np\n",
        "A = np.array([[[[[[[[0,1],[0,1],[0,1],[0,1],[0,1],[0,1],[0,1],[0,1]]]]]]]])\n",
        "x = np.tile(A,reps=4)\n",
        "print(x)"
      ]
    },
    {
      "cell_type": "markdown",
      "metadata": {
        "id": "dB_lFRsbXx9a"
      },
      "source": [
        "#### 22. Normalize a 5x5 random matrix (★☆☆) \n",
        "(**hint**: (x - min) / (max - min))"
      ]
    },
    {
      "cell_type": "code",
      "execution_count": null,
      "metadata": {
        "id": "VRNGW4-mXx9a",
        "outputId": "ca28040e-1cfd-48c8-b1d6-ad23a55fdf77",
        "colab": {
          "base_uri": "https://localhost:8080/"
        }
      },
      "outputs": [
        {
          "output_type": "stream",
          "name": "stdout",
          "text": [
            "[[0.43372714 0.12416106 0.68100119 0.49785237 0.85046512]\n",
            " [0.43830291 0.52707013 0.06356545 0.55720999 0.70148086]\n",
            " [0.22707549 0.32992829 0.31630622 0.76512021 0.51431415]\n",
            " [0.33932199 0.6597061  0.85704564 0.2500194  0.54494462]\n",
            " [0.86281506 0.34031643 0.47787693 0.66015316 0.22093278]]\n"
          ]
        }
      ],
      "source": [
        "import numpy as np\n",
        "a = np.random.rand(5,5)\n",
        "print(a)"
      ]
    },
    {
      "cell_type": "markdown",
      "metadata": {
        "id": "h1LTcQOmXx9a"
      },
      "source": [
        "#### 23. Create a custom dtype that describes a color as four unsigned bytes (RGBA) (★☆☆) \n",
        "(**hint**: np.dtype)"
      ]
    },
    {
      "cell_type": "code",
      "execution_count": null,
      "metadata": {
        "collapsed": true,
        "id": "FsTkg9KnXx9a"
      },
      "outputs": [],
      "source": [
        "dt = np.dtype({'names': ['r','b'], 'formats': ['u1', 'u1'],\n",
        "               'offsets': [0, 2],\n",
        "               'titles': ['Red pixel', 'Blue pixel']})"
      ]
    },
    {
      "cell_type": "markdown",
      "metadata": {
        "id": "nXAdyMZ4Xx9a"
      },
      "source": [
        "#### 24. Multiply a 5x3 matrix by a 3x2 matrix (real matrix product) (★☆☆) \n",
        "(**hint**: np.dot | @)"
      ]
    },
    {
      "cell_type": "code",
      "execution_count": null,
      "metadata": {
        "id": "z9Byhn7aXx9a",
        "outputId": "2c3032b1-bdb1-46f1-fcf9-b0ad381654ef",
        "colab": {
          "base_uri": "https://localhost:8080/"
        }
      },
      "outputs": [
        {
          "output_type": "stream",
          "name": "stdout",
          "text": [
            "First array:\n",
            "[[0.65992372 0.5060773  0.25595384]\n",
            " [0.61326195 0.77885012 0.31721691]\n",
            " [0.92493983 0.92452973 0.74405791]\n",
            " [0.49682722 0.58723913 0.87425414]\n",
            " [0.27705816 0.79121201 0.30275693]]\n",
            "Second array:\n",
            "[[0.91613393 0.79115522]\n",
            " [0.96665841 0.5949514 ]\n",
            " [0.91584155 0.81041448]]\n",
            "Dot product of two arrays:\n",
            "[[1.32819555 1.03062218]\n",
            " [1.60523253 1.20564054]\n",
            " [2.42251235 1.88481652]\n",
            " [1.82349819 1.4509544 ]\n",
            " [1.29593149 0.93528729]]\n"
          ]
        }
      ],
      "source": [
        "import numpy as np\n",
        "x = np.random.random((5,3))\n",
        "print(\"First array:\")\n",
        "print(x)\n",
        "y = np.random.random((3,2))\n",
        "print(\"Second array:\")\n",
        "print(y)\n",
        "z = np.dot(x, y)\n",
        "print(\"Dot product of two arrays:\")\n",
        "print(z)\n",
        "\n"
      ]
    },
    {
      "cell_type": "markdown",
      "metadata": {
        "id": "x6A_kL_RXx9a"
      },
      "source": [
        "#### 25. Given a 1D array, negate all elements which are between 3 and 8, in place. (★☆☆) \n",
        "(**hint**: >, <=)"
      ]
    },
    {
      "cell_type": "code",
      "execution_count": null,
      "metadata": {
        "id": "dGOYsDVSXx9a"
      },
      "outputs": [],
      "source": []
    },
    {
      "cell_type": "markdown",
      "metadata": {
        "id": "xg3Jm_jHXx9a"
      },
      "source": [
        "#### 26. What is the output of the following script? (★☆☆) \n",
        "(**hint**: np.sum)"
      ]
    },
    {
      "cell_type": "markdown",
      "metadata": {
        "id": "GJj4nVuBXx9b"
      },
      "source": [
        "```python\n",
        "# Author: Jake VanderPlas\n",
        "\n",
        "print(sum(range(5),-1))\n",
        "from numpy import *\n",
        "print(sum(range(5),-1))\n",
        "```"
      ]
    },
    {
      "cell_type": "code",
      "execution_count": null,
      "metadata": {
        "id": "wOHXFA46Xx9b",
        "outputId": "a29cc2a8-1552-46f8-8345-80fb54791464",
        "colab": {
          "base_uri": "https://localhost:8080/"
        }
      },
      "outputs": [
        {
          "output_type": "stream",
          "name": "stdout",
          "text": [
            "\n",
            "Sum of arr :  36.2\n",
            "Sum of arr(uint8) :  36\n",
            "Sum of arr(float32) :  36.2\n",
            "\n",
            "Is np.sum(arr).dtype == np.uint :  False\n",
            "Is np.sum(arr).dtype == np.float :  True\n"
          ]
        },
        {
          "output_type": "stream",
          "name": "stderr",
          "text": [
            "/usr/local/lib/python3.7/dist-packages/ipykernel_launcher.py:17: DeprecationWarning: `np.float` is a deprecated alias for the builtin `float`. To silence this warning, use `float` by itself. Doing this will not modify any behavior and is safe. If you specifically wanted the numpy scalar type, use `np.float64` here.\n",
            "Deprecated in NumPy 1.20; for more details and guidance: https://numpy.org/devdocs/release/1.20.0-notes.html#deprecations\n"
          ]
        }
      ],
      "source": [
        "# Python Program illustrating\n",
        "# numpy.sum() method\n",
        "import numpy as np\n",
        " \n",
        "# 1D array\n",
        "arr = [20, 2, .2, 10, 4]\n",
        "\n",
        "print(\"\\nSum of arr : \", np.sum(arr))\n",
        "\n",
        "print(\"Sum of arr(uint8) : \", np.sum(arr, dtype = np.uint8))\n",
        "print(\"Sum of arr(float32) : \", np.sum(arr, dtype = np.float32))\n",
        "\n",
        "print (\"\\nIs np.sum(arr).dtype == np.uint : \",\n",
        " np.sum(arr).dtype == np.uint)\n",
        "\n",
        "print (\"Is np.sum(arr).dtype == np.float : \",\n",
        " np.sum(arr).dtype == np.float)\n"
      ]
    },
    {
      "cell_type": "markdown",
      "metadata": {
        "id": "JGZu_UlbXx9b"
      },
      "source": [
        "#### 27. Consider an integer vector Z, which of these expressions are legal? (★☆☆)"
      ]
    },
    {
      "cell_type": "markdown",
      "metadata": {
        "id": "IrVHbZK9Xx9b"
      },
      "source": [
        "```python\n",
        "Z**Z\n",
        "2 << Z >> 2\n",
        "Z <- Z\n",
        "1j*Z\n",
        "Z/1/1\n",
        "Z<Z>Z\n",
        "```"
      ]
    },
    {
      "cell_type": "code",
      "execution_count": null,
      "metadata": {
        "id": "ohEywkPaXx9b"
      },
      "outputs": [],
      "source": []
    },
    {
      "cell_type": "markdown",
      "metadata": {
        "id": "gpklv7o2Xx9b"
      },
      "source": [
        "#### 28. What are the result of the following expressions?"
      ]
    },
    {
      "cell_type": "markdown",
      "metadata": {
        "id": "FP7GpL9pXx9b"
      },
      "source": [
        "```python\n",
        "np.array(0) / np.array(0)\n",
        "np.array(0) // np.array(0)\n",
        "np.array([np.nan]).astype(int).astype(float)\n",
        "```"
      ]
    },
    {
      "cell_type": "code",
      "execution_count": null,
      "metadata": {
        "id": "17FvxDawXx9b"
      },
      "outputs": [],
      "source": []
    },
    {
      "cell_type": "markdown",
      "metadata": {
        "id": "hiEfoexcXx9b"
      },
      "source": [
        "#### 29. How to round away from zero a float array ? (★☆☆) \n",
        "(**hint**: np.uniform, np.copysign, np.ceil, np.abs)"
      ]
    },
    {
      "cell_type": "code",
      "execution_count": null,
      "metadata": {
        "id": "9_eNTCQFXx9c"
      },
      "outputs": [],
      "source": []
    },
    {
      "cell_type": "markdown",
      "metadata": {
        "id": "ASkoBXZIXx9c"
      },
      "source": [
        "#### 30. How to find common values between two arrays? (★☆☆) \n",
        "(**hint**: np.intersect1d)"
      ]
    },
    {
      "cell_type": "code",
      "execution_count": null,
      "metadata": {
        "id": "IA9s8rFzXx9c",
        "outputId": "96dc2bd2-1092-42b5-859d-42bfad9a4859",
        "colab": {
          "base_uri": "https://localhost:8080/"
        }
      },
      "outputs": [
        {
          "output_type": "stream",
          "name": "stdout",
          "text": [
            "Original arrays [2 4 7 1 4]   [7 2 9 0 5]\n",
            "Common values [2 7]\n"
          ]
        }
      ],
      "source": [
        "import numpy as np\n",
        "\n",
        "\n",
        "# create 2 arrays\n",
        "a = np.array([2, 4, 7, 1, 4])\n",
        "b = np.array([7, 2, 9, 0, 5])\n",
        "\n",
        "# Display the arrays\n",
        "print(\"Original arrays\", a, ' ', b)\n",
        "\n",
        "# use the np.intersect1d method\n",
        "c = np.intersect1d(a, b)\n",
        "\n",
        "# Display result\n",
        "print(\"Common values\", c)\n"
      ]
    },
    {
      "cell_type": "markdown",
      "metadata": {
        "id": "fSeOOx7pXx9c"
      },
      "source": [
        "#### 31. How to ignore all numpy warnings (not recommended)? (★☆☆) \n",
        "(**hint**: np.seterr, np.errstate)"
      ]
    },
    {
      "cell_type": "code",
      "execution_count": null,
      "metadata": {
        "id": "aPAk2v3WXx9c",
        "outputId": "c0e0d09e-90c4-4c39-c06a-6bf75001fa3e",
        "colab": {
          "base_uri": "https://localhost:8080/"
        }
      },
      "outputs": [
        {
          "output_type": "execute_result",
          "data": {
            "text/plain": [
              "array([nan, nan, nan, nan, nan, nan, nan, nan, nan, nan])"
            ]
          },
          "metadata": {},
          "execution_count": 29
        }
      ],
      "source": [
        "import numpy as np\n",
        "data = np.random.random(100000).reshape(10, 100, 100) * np.nan\n",
        "np.seterr(all=\"ignore\")\n",
        "np.nanmedian(data, axis=[1, 2])"
      ]
    },
    {
      "cell_type": "markdown",
      "metadata": {
        "id": "dir-d5FnXx9c"
      },
      "source": [
        "#### 32. Is the following expressions true? (★☆☆) \n",
        "(**hint**: imaginary number)"
      ]
    },
    {
      "cell_type": "markdown",
      "metadata": {
        "id": "4NfcdMUbXx9c"
      },
      "source": [
        "```python\n",
        "np.sqrt(-1) == np.emath.sqrt(-1)\n",
        "```"
      ]
    },
    {
      "cell_type": "code",
      "execution_count": null,
      "metadata": {
        "id": "x8I8MZuVXx9c"
      },
      "outputs": [],
      "source": []
    },
    {
      "cell_type": "markdown",
      "metadata": {
        "id": "ze2ENpoUXx9c"
      },
      "source": [
        "#### 33. How to get the dates of yesterday, today and tomorrow? (★☆☆) \n",
        "(**hint**: np.datetime64, np.timedelta64)"
      ]
    },
    {
      "cell_type": "code",
      "execution_count": null,
      "metadata": {
        "collapsed": true,
        "id": "oDfSzPEIXx9c",
        "outputId": "8060e810-38ad-46cb-f6b0-c5c007342794",
        "colab": {
          "base_uri": "https://localhost:8080/"
        }
      },
      "outputs": [
        {
          "output_type": "stream",
          "name": "stdout",
          "text": [
            "Yestraday:  2022-09-14\n",
            "Today:  2022-09-15\n",
            "Tomorrow:  2022-09-16\n"
          ]
        }
      ],
      "source": [
        "import numpy as np\n",
        "yesterday = np.datetime64('today', 'D') - np.timedelta64(1, 'D')\n",
        "print(\"Yestraday: \",yesterday)\n",
        "today     = np.datetime64('today', 'D')\n",
        "print(\"Today: \",today)\n",
        "tomorrow  = np.datetime64('today', 'D') + np.timedelta64(1, 'D')\n",
        "print(\"Tomorrow: \",tomorrow)\n",
        "                                       "
      ]
    },
    {
      "cell_type": "markdown",
      "metadata": {
        "id": "lfG1lPoSXx9c"
      },
      "source": [
        "#### 34. How to get all the dates corresponding to the month of July 2016? (★★☆) \n",
        "(**hint**: np.arange(dtype=datetime64\\['D'\\]))"
      ]
    },
    {
      "cell_type": "code",
      "execution_count": null,
      "metadata": {
        "id": "D2nI9SpXXx9c",
        "outputId": "45e06040-1825-4787-ac00-e2cfe0c8cd45",
        "colab": {
          "base_uri": "https://localhost:8080/",
          "height": 339
        }
      },
      "outputs": [
        {
          "output_type": "error",
          "ename": "AttributeError",
          "evalue": "ignored",
          "traceback": [
            "\u001b[0;31m---------------------------------------------------------------------------\u001b[0m",
            "\u001b[0;31mAttributeError\u001b[0m                            Traceback (most recent call last)",
            "\u001b[0;32m<ipython-input-33-abfe95614267>\u001b[0m in \u001b[0;36m<module>\u001b[0;34m\u001b[0m\n\u001b[1;32m      3\u001b[0m \u001b[0;34m\u001b[0m\u001b[0m\n\u001b[1;32m      4\u001b[0m \u001b[0;31m# dates of july 2020\u001b[0m\u001b[0;34m\u001b[0m\u001b[0;34m\u001b[0m\u001b[0;34m\u001b[0m\u001b[0m\n\u001b[0;32m----> 5\u001b[0;31m print(np.arrange('2012-07', '2020-08',\n\u001b[0m\u001b[1;32m      6\u001b[0m     dtype='datetime64[D]'))\n",
            "\u001b[0;32m/usr/local/lib/python3.7/dist-packages/numpy/__init__.py\u001b[0m in \u001b[0;36m__getattr__\u001b[0;34m(attr)\u001b[0m\n\u001b[1;32m    312\u001b[0m \u001b[0;34m\u001b[0m\u001b[0m\n\u001b[1;32m    313\u001b[0m             raise AttributeError(\"module {!r} has no attribute \"\n\u001b[0;32m--> 314\u001b[0;31m                                  \"{!r}\".format(__name__, attr))\n\u001b[0m\u001b[1;32m    315\u001b[0m \u001b[0;34m\u001b[0m\u001b[0m\n\u001b[1;32m    316\u001b[0m         \u001b[0;32mdef\u001b[0m \u001b[0m__dir__\u001b[0m\u001b[0;34m(\u001b[0m\u001b[0;34m)\u001b[0m\u001b[0;34m:\u001b[0m\u001b[0;34m\u001b[0m\u001b[0;34m\u001b[0m\u001b[0m\n",
            "\u001b[0;31mAttributeError\u001b[0m: module 'numpy' has no attribute 'arrange'"
          ]
        }
      ],
      "source": [
        "import numpy as np\n",
        "\n",
        "\n",
        "# dates of july 2016\n",
        "print(np.arrange('2012-07', '2016-08',\n",
        "    dtype='datetime64[D]'))\n"
      ]
    },
    {
      "cell_type": "markdown",
      "metadata": {
        "id": "opC04G4mXx9c"
      },
      "source": [
        "#### 35. How to compute ((A+B)\\*(-A/2)) in place (without copy)? (★★☆) \n",
        "(**hint**: np.add(out=), np.negative(out=), np.multiply(out=), np.divide(out=))"
      ]
    },
    {
      "cell_type": "code",
      "execution_count": null,
      "metadata": {
        "id": "kYQ86IpLXx9d",
        "outputId": "f67c1253-d19b-4a7d-de22-85853f2b0ff3",
        "colab": {
          "base_uri": "https://localhost:8080/"
        }
      },
      "outputs": [
        {
          "output_type": "stream",
          "name": "stdout",
          "text": [
            "Actual average :  2147483647\n",
            "Computed average :  -1\n"
          ]
        }
      ],
      "source": [
        "\n",
        "import sys\n",
        "from math import floor\n",
        "INT_MAX = 2147483647\n",
        "def compute_average(a, b):\n",
        " return floor((a + b) / 2)\n",
        "if __name__ == '__main__':\n",
        " a = INT_MAX\n",
        " b = -INT_MAX - 1\n",
        " print(\"Actual average : \", INT_MAX)\n",
        " print(\"Computed average : \",\n",
        "  compute_average(a, b))\n",
        "\n"
      ]
    },
    {
      "cell_type": "markdown",
      "metadata": {
        "id": "PewtIWfFXx9d"
      },
      "source": [
        "#### 36. Extract the integer part of a random array using 5 different methods (★★☆) \n",
        "(**hint**: %, np.floor, np.ceil, astype, np.trunc)"
      ]
    },
    {
      "cell_type": "code",
      "execution_count": null,
      "metadata": {
        "id": "yOvan8FlXx9d"
      },
      "outputs": [],
      "source": []
    },
    {
      "cell_type": "markdown",
      "metadata": {
        "id": "eUZRJRHVXx9d"
      },
      "source": [
        "#### 37. Create a 5x5 matrix with row values ranging from 0 to 4 (★★☆) \n",
        "(**hint**: np.arange)"
      ]
    },
    {
      "cell_type": "code",
      "execution_count": null,
      "metadata": {
        "id": "LWLFzWy9Xx9d",
        "outputId": "5a4de740-bf1d-4a19-acbd-f6d1f0e719a3",
        "colab": {
          "base_uri": "https://localhost:8080/"
        }
      },
      "outputs": [
        {
          "output_type": "stream",
          "name": "stdout",
          "text": [
            "Original array:\n",
            "[[0. 0. 0. 0. 0.]\n",
            " [0. 0. 0. 0. 0.]\n",
            " [0. 0. 0. 0. 0.]\n",
            " [0. 0. 0. 0. 0.]\n",
            " [0. 0. 0. 0. 0.]]\n",
            "Row values ranging from 0 to 4.\n",
            "[[0. 1. 2. 3. 4.]\n",
            " [0. 1. 2. 3. 4.]\n",
            " [0. 1. 2. 3. 4.]\n",
            " [0. 1. 2. 3. 4.]\n",
            " [0. 1. 2. 3. 4.]]\n"
          ]
        }
      ],
      "source": [
        "import numpy as np\n",
        "x = np.zeros((5,5))\n",
        "print(\"Original array:\")\n",
        "print(x)\n",
        "print(\"Row values ranging from 0 to 4.\")\n",
        "x += np.arange(5)\n",
        "print(x)"
      ]
    },
    {
      "cell_type": "markdown",
      "metadata": {
        "id": "9Lj0dGehXx9d"
      },
      "source": [
        "#### 38. Consider a generator function that generates 10 integers and use it to build an array (★☆☆) \n",
        "(**hint**: np.fromiter)"
      ]
    },
    {
      "cell_type": "code",
      "execution_count": null,
      "metadata": {
        "id": "JpQKH-BqXx9d"
      },
      "outputs": [],
      "source": []
    },
    {
      "cell_type": "markdown",
      "metadata": {
        "id": "wVZVEA3wXx9d"
      },
      "source": [
        "#### 39. Create a vector of size 10 with values ranging from 0 to 1, both excluded (★★☆) \n",
        "(**hint**: np.linspace)"
      ]
    },
    {
      "cell_type": "code",
      "execution_count": null,
      "metadata": {
        "id": "pD2fcHlSXx9d",
        "outputId": "fa058723-f91c-4451-d825-8c2b38736a00",
        "colab": {
          "base_uri": "https://localhost:8080/"
        }
      },
      "outputs": [
        {
          "output_type": "stream",
          "name": "stdout",
          "text": [
            "[0.09090909 0.18181818 0.27272727 0.36363636 0.45454545 0.54545455\n",
            " 0.63636364 0.72727273 0.81818182 0.90909091]\n"
          ]
        }
      ],
      "source": [
        "import numpy as np\n",
        "x = np.linspace(0,1,12,endpoint=True)[1:-1]\n",
        "print(x)"
      ]
    },
    {
      "cell_type": "markdown",
      "metadata": {
        "id": "okFnRCVFXx9d"
      },
      "source": [
        "#### 40. Create a random vector of size 10 and sort it (★★☆) \n",
        "(**hint**: sort)"
      ]
    },
    {
      "cell_type": "code",
      "execution_count": null,
      "metadata": {
        "id": "awAzULxeXx9d",
        "outputId": "d24c05c8-0860-4e77-a752-dfe572860b78",
        "colab": {
          "base_uri": "https://localhost:8080/"
        }
      },
      "outputs": [
        {
          "output_type": "stream",
          "name": "stdout",
          "text": [
            "Original array:\n",
            "[0.98355866 0.51231243 0.44444159 0.81589677 0.07595712 0.74343863\n",
            " 0.94972938 0.90901315 0.98262287 0.38673551]\n",
            "Sorted array:\n",
            "[0.07595712 0.38673551 0.44444159 0.51231243 0.74343863 0.81589677\n",
            " 0.90901315 0.94972938 0.98262287 0.98355866]\n"
          ]
        }
      ],
      "source": [
        "import numpy as np\n",
        "x = np.random.random(10)\n",
        "print(\"Original array:\")\n",
        "print(x)\n",
        "x.sort()\n",
        "print(\"Sorted array:\")\n",
        "print(x)"
      ]
    },
    {
      "cell_type": "markdown",
      "metadata": {
        "id": "L3CZKhM-Xx9d"
      },
      "source": [
        "#### 41. How to sum a small array faster than np.sum? (★★☆) \n",
        "(**hint**: np.add.reduce)"
      ]
    },
    {
      "cell_type": "code",
      "execution_count": null,
      "metadata": {
        "id": "0iFy9jNNXx9e"
      },
      "outputs": [],
      "source": []
    },
    {
      "cell_type": "markdown",
      "metadata": {
        "id": "5oMVRhJeXx9e"
      },
      "source": [
        "#### 42. Consider two random array A and B, check if they are equal (★★☆) \n",
        "(**hint**: np.allclose, np.array\\_equal)"
      ]
    },
    {
      "cell_type": "code",
      "execution_count": null,
      "metadata": {
        "id": "OTC-vOtHXx9e"
      },
      "outputs": [],
      "source": [
        "# Python3 program to find given\n",
        "# two array are equal or not\n",
        "\n",
        "# Returns true if arr1[0..n-1] and\n",
        "# arr2[0..m-1] contain same elements.\n",
        "\n",
        "\n",
        "def areEqual(arr1, arr2, N, M):\n",
        "\n",
        " # If lengths of array are not\n",
        " # equal means array are not equal\n",
        " if (N != M):\n",
        "  return False\n",
        "\n",
        " # Sort both arrays\n",
        " arr1.sort()\n",
        " arr2.sort()\n",
        "\n",
        " # Linearly compare elements\n",
        " for i in range(0, N):\n",
        "  if (arr1[i] != arr2[i]):\n",
        "   return False\n",
        "\n",
        " # If all elements were same.\n",
        " return True\n",
        "\n",
        "\n",
        "# Driver Code\n",
        "if __name__ == \"__main__\":\n",
        " arr1 = [3, 5, 2, 5, 2]\n",
        " arr2 = [2, 3, 5, 5, 2]\n",
        " n = len(arr1)\n",
        " m = len(arr2)\n",
        "\n",
        " if (areEqual(arr1, arr2, n, m)):\n",
        "  print(\"Yes\")\n",
        " else:\n",
        "  print(\"No\")\n"
      ]
    },
    {
      "cell_type": "markdown",
      "metadata": {
        "id": "GpKpwh3uXx9e"
      },
      "source": [
        "#### 43. Make an array immutable (read-only) (★★☆) \n",
        "(**hint**: flags.writeable)"
      ]
    },
    {
      "cell_type": "code",
      "execution_count": null,
      "metadata": {
        "id": "YyKsNmE1Xx9e",
        "outputId": "fce7a117-3142-42ab-e6b0-0529156b5d0a",
        "colab": {
          "base_uri": "https://localhost:8080/",
          "height": 200
        }
      },
      "outputs": [
        {
          "output_type": "error",
          "ename": "ValueError",
          "evalue": "ignored",
          "traceback": [
            "\u001b[0;31m---------------------------------------------------------------------------\u001b[0m",
            "\u001b[0;31mValueError\u001b[0m                                Traceback (most recent call last)",
            "\u001b[0;32m<ipython-input-39-6a6348e57803>\u001b[0m in \u001b[0;36m<module>\u001b[0;34m\u001b[0m\n\u001b[1;32m      1\u001b[0m \u001b[0ma\u001b[0m \u001b[0;34m=\u001b[0m \u001b[0mnp\u001b[0m\u001b[0;34m.\u001b[0m\u001b[0marange\u001b[0m\u001b[0;34m(\u001b[0m\u001b[0;36m10\u001b[0m\u001b[0;34m)\u001b[0m\u001b[0;34m\u001b[0m\u001b[0;34m\u001b[0m\u001b[0m\n\u001b[1;32m      2\u001b[0m \u001b[0ma\u001b[0m\u001b[0;34m.\u001b[0m\u001b[0mflags\u001b[0m\u001b[0;34m.\u001b[0m\u001b[0mwriteable\u001b[0m \u001b[0;34m=\u001b[0m \u001b[0;32mFalse\u001b[0m\u001b[0;34m\u001b[0m\u001b[0;34m\u001b[0m\u001b[0m\n\u001b[0;32m----> 3\u001b[0;31m \u001b[0ma\u001b[0m\u001b[0;34m[\u001b[0m\u001b[0;36m0\u001b[0m\u001b[0;34m]\u001b[0m \u001b[0;34m=\u001b[0m \u001b[0;36m1\u001b[0m\u001b[0;34m\u001b[0m\u001b[0;34m\u001b[0m\u001b[0m\n\u001b[0m",
            "\u001b[0;31mValueError\u001b[0m: assignment destination is read-only"
          ]
        }
      ],
      "source": [
        "a = np.arange(10)\n",
        "a.flags.writeable = False\n",
        "a[0] = 1"
      ]
    },
    {
      "cell_type": "markdown",
      "metadata": {
        "id": "FWRjsoH_Xx9e"
      },
      "source": [
        "#### 44. Consider a random 10x2 matrix representing cartesian coordinates, convert them to polar coordinates (★★☆) \n",
        "(**hint**: np.sqrt, np.arctan2)"
      ]
    },
    {
      "cell_type": "code",
      "execution_count": null,
      "metadata": {
        "id": "UT5pJulcXx9e",
        "outputId": "e3695bde-c844-45ae-dab0-13769faaa73e",
        "colab": {
          "base_uri": "https://localhost:8080/"
        }
      },
      "outputs": [
        {
          "output_type": "stream",
          "name": "stdout",
          "text": [
            "[0.23057057 0.44846531 0.95462047 0.25979413 0.80846383 0.89190342\n",
            " 0.39081987 1.0282198  1.24989512 0.78060455]\n",
            "[0.27444182 0.48925148 0.93963819 1.15567206 0.68718615 0.56492851\n",
            " 1.06421129 0.75302877 0.88488255 1.10426245]\n"
          ]
        }
      ],
      "source": [
        "import numpy as np\n",
        "z= np.random.random((10,2))\n",
        "x,y = z[:,0], z[:,1]\n",
        "r = np.sqrt(x**2+y**2)\n",
        "t = np.arctan2(y,x)\n",
        "print(r)\n",
        "print(t)"
      ]
    },
    {
      "cell_type": "markdown",
      "metadata": {
        "id": "ULjZjAIBXx9e"
      },
      "source": [
        "#### 45. Create random vector of size 10 and replace the maximum value by 0 (★★☆) \n",
        "(**hint**: argmax)"
      ]
    },
    {
      "cell_type": "code",
      "execution_count": null,
      "metadata": {
        "id": "F1Tkso66Xx9e",
        "outputId": "367e21b2-3152-4a2e-960c-b5df86c93629",
        "colab": {
          "base_uri": "https://localhost:8080/"
        }
      },
      "outputs": [
        {
          "output_type": "stream",
          "name": "stdout",
          "text": [
            "Original array:\n",
            "[0.80777334 0.28250606 0.83999567 0.54008404 0.27991441 0.31989603\n",
            " 0.28808217 0.13038715 0.4281652  0.3785465 ]\n",
            "Sorted array:\n",
            "[0.13038715 0.27991441 0.28250606 0.28808217 0.31989603 0.3785465\n",
            " 0.4281652  0.54008404 0.80777334 0.83999567]\n"
          ]
        }
      ],
      "source": [
        "import numpy as np\n",
        "x = np.random.random(10)\n",
        "print(\"Original array:\")\n",
        "print(x)\n",
        "x.sort()\n",
        "print(\"Sorted array:\")\n",
        "print(x)"
      ]
    },
    {
      "cell_type": "markdown",
      "metadata": {
        "id": "hcOLBP1GXx9f"
      },
      "source": [
        "#### 46. Create a structured array with `x` and `y` coordinates covering the \\[0,1\\]x\\[0,1\\] area (★★☆) \n",
        "(**hint**: np.meshgrid)"
      ]
    },
    {
      "cell_type": "code",
      "execution_count": null,
      "metadata": {
        "id": "Q6S83aD5Xx9f"
      },
      "outputs": [],
      "source": []
    },
    {
      "cell_type": "markdown",
      "metadata": {
        "id": "RMm82VGVXx9f"
      },
      "source": [
        "####  47. Given two arrays, X and Y, construct the Cauchy matrix C (Cij =1/(xi - yj)) \n",
        "(**hint**: np.subtract.outer)"
      ]
    },
    {
      "cell_type": "code",
      "execution_count": null,
      "metadata": {
        "id": "d9Wxk7oKXx9f"
      },
      "outputs": [],
      "source": []
    },
    {
      "cell_type": "markdown",
      "metadata": {
        "id": "gffTGeJQXx9f"
      },
      "source": [
        "#### 48. Print the minimum and maximum representable value for each numpy scalar type (★★☆) \n",
        "(**hint**: np.iinfo, np.finfo, eps)"
      ]
    },
    {
      "cell_type": "code",
      "execution_count": null,
      "metadata": {
        "id": "JCAXBbeeXx9f",
        "outputId": "7d59bc4f-d61d-464b-9895-543e666071cc",
        "colab": {
          "base_uri": "https://localhost:8080/"
        }
      },
      "outputs": [
        {
          "output_type": "stream",
          "name": "stdout",
          "text": [
            "maximum element in the array is:  8\n",
            "minimum element in the array is:  1\n"
          ]
        }
      ],
      "source": [
        "# import numpy library\n",
        "import numpy\n",
        "\n",
        "# creating a numpy array of integers\n",
        "arr = numpy.array([1, 5, 4, 8, 3, 7])\n",
        "\n",
        "# finding the maximum and\n",
        "# minimum element in the array\n",
        "max_element = numpy.max(arr)\n",
        "min_element = numpy.min(arr)\n",
        "\n",
        "# printing the result\n",
        "print('maximum element in the array is: ',\n",
        " max_element)\n",
        "print('minimum element in the array is: ',\n",
        " min_element)\n"
      ]
    },
    {
      "cell_type": "markdown",
      "metadata": {
        "id": "3q_SdIn1Xx9f"
      },
      "source": [
        "#### 49. How to print all the values of an array? (★★☆) \n",
        "(**hint**: np.set\\_printoptions)"
      ]
    },
    {
      "cell_type": "code",
      "execution_count": null,
      "metadata": {
        "id": "HggO3x8ZXx9g",
        "outputId": "a7d8028b-60a7-49b7-8fd2-3f39a36c9bbd",
        "colab": {
          "base_uri": "https://localhost:8080/"
        }
      },
      "outputs": [
        {
          "output_type": "stream",
          "name": "stdout",
          "text": [
            "[   0    1    2 ...  998  999 1000]\n"
          ]
        }
      ],
      "source": [
        "import numpy as np\n",
        "arr = np.arange(1001)\n",
        "print(arr)\n"
      ]
    },
    {
      "cell_type": "markdown",
      "metadata": {
        "id": "I81L6_40Xx9g"
      },
      "source": [
        "#### 50. How to find the closest value (to a given scalar) in a vector? (★★☆) \n",
        "(**hint**: argmin)"
      ]
    },
    {
      "cell_type": "code",
      "execution_count": null,
      "metadata": {
        "id": "JpMCYnZWXx9g",
        "outputId": "8b7f40b9-2db9-49ef-8c0e-808a8f1741f8",
        "colab": {
          "base_uri": "https://localhost:8080/"
        }
      },
      "outputs": [
        {
          "output_type": "stream",
          "name": "stdout",
          "text": [
            "Original array:\n",
            "[ 0  1  2  3  4  5  6  7  8  9 10 11 12 13 14 15 16 17 18 19 20 21 22 23\n",
            " 24 25 26 27 28 29 30 31 32 33 34 35 36 37 38 39 40 41 42 43 44 45 46 47\n",
            " 48 49 50 51 52 53 54 55 56 57 58 59 60 61 62 63 64 65 66 67 68 69 70 71\n",
            " 72 73 74 75 76 77 78 79 80 81 82 83 84 85 86 87 88 89 90 91 92 93 94 95\n",
            " 96 97 98 99]\n",
            "Value to compare:\n",
            "39.40657325221569\n",
            "39\n"
          ]
        }
      ],
      "source": [
        "import numpy as np\n",
        "x = np.arange(100)\n",
        "print(\"Original array:\")\n",
        "print(x)\n",
        "a = np.random.uniform(0,100)\n",
        "print(\"Value to compare:\")\n",
        "print(a)\n",
        "index = (np.abs(x-a)).argmin()\n",
        "print(x[index])\n"
      ]
    },
    {
      "cell_type": "markdown",
      "metadata": {
        "id": "1-rXjrOQXx9g"
      },
      "source": [
        "#### 51. Create a structured array representing a position (x,y) and a color (r,g,b) (★★☆) \n",
        "(**hint**: dtype)"
      ]
    },
    {
      "cell_type": "code",
      "execution_count": null,
      "metadata": {
        "id": "SiwqZUOYXx9g",
        "outputId": "964ebd3d-6ca8-4916-9cb3-27c50b821932",
        "colab": {
          "base_uri": "https://localhost:8080/"
        }
      },
      "outputs": [
        {
          "output_type": "stream",
          "name": "stdout",
          "text": [
            "[('Sana', 2, 21.) ('Mansi', 7, 29.)]\n"
          ]
        }
      ],
      "source": [
        "# Python program to demonstrate\n",
        "# Structured array\n",
        "\n",
        "\n",
        "import numpy as np\n",
        "\n",
        "\n",
        "a = np.array([('Sana', 2, 21.0), ('Mansi', 7, 29.0)],\n",
        " dtype=[('name', (np.str_, 10)), ('age', np.int32), ('weight', np.float64)])\n",
        "\n",
        "print(a)\n"
      ]
    },
    {
      "cell_type": "markdown",
      "metadata": {
        "id": "f-Kd9xGAXx9g"
      },
      "source": [
        "#### 52. Consider a random vector with shape (100,2) representing coordinates, find point by point distances (★★☆) \n",
        "(**hint**: np.atleast\\_2d, T, np.sqrt)"
      ]
    },
    {
      "cell_type": "code",
      "execution_count": null,
      "metadata": {
        "id": "Mt6i_19BXx9h"
      },
      "outputs": [],
      "source": []
    },
    {
      "cell_type": "markdown",
      "metadata": {
        "id": "HY0GDv6NXx9h"
      },
      "source": [
        "#### 53. How to convert a float (32 bits) array into an integer (32 bits) in place? \n",
        "(**hint**: astype(copy=False))"
      ]
    },
    {
      "cell_type": "code",
      "execution_count": null,
      "metadata": {
        "id": "qAz-IjGqXx9h"
      },
      "outputs": [],
      "source": []
    },
    {
      "cell_type": "markdown",
      "metadata": {
        "id": "8lscTex8Xx9h"
      },
      "source": [
        "#### 54. How to read the following file? (★★☆) \n",
        "(**hint**: np.genfromtxt)"
      ]
    },
    {
      "cell_type": "markdown",
      "metadata": {
        "id": "NRVr_3fYXx9h"
      },
      "source": [
        "```\n",
        "1, 2, 3, 4, 5\n",
        "6,  ,  , 7, 8\n",
        " ,  , 9,10,11\n",
        "```"
      ]
    },
    {
      "cell_type": "code",
      "execution_count": null,
      "metadata": {
        "id": "7r7cm86wXx9h"
      },
      "outputs": [],
      "source": []
    },
    {
      "cell_type": "markdown",
      "metadata": {
        "id": "hfNTfqaWXx9i"
      },
      "source": [
        "#### 55. What is the equivalent of enumerate for numpy arrays? (★★☆) \n",
        "(**hint**: np.ndenumerate, np.ndindex)"
      ]
    },
    {
      "cell_type": "code",
      "execution_count": null,
      "metadata": {
        "id": "l04S05BeXx9i"
      },
      "outputs": [],
      "source": []
    },
    {
      "cell_type": "markdown",
      "metadata": {
        "id": "gHXCg31rXx9i"
      },
      "source": [
        "#### 56. Generate a generic 2D Gaussian-like array (★★☆) \n",
        "(**hint**: np.meshgrid, np.exp)"
      ]
    },
    {
      "cell_type": "code",
      "execution_count": null,
      "metadata": {
        "id": "obklhSD1Xx9i"
      },
      "outputs": [],
      "source": []
    },
    {
      "cell_type": "markdown",
      "metadata": {
        "id": "2lTFklfEXx9i"
      },
      "source": [
        "#### 57. How to randomly place p elements in a 2D array? (★★☆) \n",
        "(**hint**: np.put, np.random.choice)"
      ]
    },
    {
      "cell_type": "code",
      "execution_count": null,
      "metadata": {
        "id": "73dF2wvrXx9i"
      },
      "outputs": [],
      "source": []
    },
    {
      "cell_type": "markdown",
      "metadata": {
        "id": "MhofCmwPXx9i"
      },
      "source": [
        "#### 58. Subtract the mean of each row of a matrix (★★☆) \n",
        "(**hint**: mean(axis=,keepdims=))"
      ]
    },
    {
      "cell_type": "code",
      "execution_count": null,
      "metadata": {
        "id": "7CuktRpZXx9j"
      },
      "outputs": [],
      "source": []
    },
    {
      "cell_type": "markdown",
      "metadata": {
        "id": "XEVunYhlXx9j"
      },
      "source": [
        "#### 59. How to sort an array by the nth column? (★★☆) \n",
        "(**hint**: argsort)"
      ]
    },
    {
      "cell_type": "code",
      "execution_count": null,
      "metadata": {
        "id": "NKfHppmuXx9j"
      },
      "outputs": [],
      "source": []
    },
    {
      "cell_type": "markdown",
      "metadata": {
        "id": "Sfy9mhkKXx9j"
      },
      "source": [
        "#### 60. How to tell if a given 2D array has null columns? (★★☆) \n",
        "(**hint**: any, ~)"
      ]
    },
    {
      "cell_type": "code",
      "execution_count": null,
      "metadata": {
        "id": "h0_UJFNKXx9j"
      },
      "outputs": [],
      "source": []
    },
    {
      "cell_type": "markdown",
      "metadata": {
        "id": "SQBb_7vkXx9j"
      },
      "source": [
        "#### 61. Find the nearest value from a given value in an array (★★☆) \n",
        "(**hint**: np.abs, argmin, flat)"
      ]
    },
    {
      "cell_type": "code",
      "execution_count": null,
      "metadata": {
        "id": "rCJChdvRXx9j"
      },
      "outputs": [],
      "source": []
    },
    {
      "cell_type": "markdown",
      "metadata": {
        "id": "7bHNNp-JXx9j"
      },
      "source": [
        "#### 62. Considering two arrays with shape (1,3) and (3,1), how to compute their sum using an iterator? (★★☆) \n",
        "(**hint**: np.nditer)"
      ]
    },
    {
      "cell_type": "code",
      "execution_count": null,
      "metadata": {
        "id": "Di1vFGZ2Xx9k"
      },
      "outputs": [],
      "source": []
    },
    {
      "cell_type": "markdown",
      "metadata": {
        "id": "qfqiEuF0Xx9k"
      },
      "source": [
        "#### 63. Create an array class that has a name attribute (★★☆) \n",
        "(**hint**: class method)"
      ]
    },
    {
      "cell_type": "code",
      "execution_count": null,
      "metadata": {
        "id": "d1Mv5s2KXx9k"
      },
      "outputs": [],
      "source": []
    },
    {
      "cell_type": "markdown",
      "metadata": {
        "id": "wezp1A_8Xx9k"
      },
      "source": [
        "#### 64. Consider a given vector, how to add 1 to each element indexed by a second vector (be careful with repeated indices)? (★★★) \n",
        "(**hint**: np.bincount | np.add.at)"
      ]
    },
    {
      "cell_type": "code",
      "execution_count": null,
      "metadata": {
        "id": "jQ7VrgEuXx9k"
      },
      "outputs": [],
      "source": []
    },
    {
      "cell_type": "markdown",
      "metadata": {
        "id": "AGflmwBmXx9k"
      },
      "source": [
        "#### 65. How to accumulate elements of a vector (X) to an array (F) based on an index list (I)? (★★★) \n",
        "(**hint**: np.bincount)"
      ]
    },
    {
      "cell_type": "code",
      "execution_count": null,
      "metadata": {
        "id": "JYElwVdtXx9l"
      },
      "outputs": [],
      "source": []
    },
    {
      "cell_type": "markdown",
      "metadata": {
        "id": "mWlE1JSpXx9l"
      },
      "source": [
        "#### 66. Considering a (w,h,3) image of (dtype=ubyte), compute the number of unique colors (★★★) \n",
        "(**hint**: np.unique)"
      ]
    },
    {
      "cell_type": "code",
      "execution_count": null,
      "metadata": {
        "id": "xQRK0l3UXx9l"
      },
      "outputs": [],
      "source": []
    },
    {
      "cell_type": "markdown",
      "metadata": {
        "id": "kMSUpRziXx9l"
      },
      "source": [
        "#### 67. Considering a four dimensions array, how to get sum over the last two axis at once? (★★★) \n",
        "(**hint**: sum(axis=(-2,-1)))"
      ]
    },
    {
      "cell_type": "code",
      "execution_count": null,
      "metadata": {
        "id": "XO3EhyGrXx9l"
      },
      "outputs": [],
      "source": []
    },
    {
      "cell_type": "markdown",
      "metadata": {
        "id": "N0CQILSMXx9l"
      },
      "source": [
        "#### 68. Considering a one-dimensional vector D, how to compute means of subsets of D using a vector S of same size describing subset  indices? (★★★) \n",
        "(**hint**: np.bincount)"
      ]
    },
    {
      "cell_type": "code",
      "execution_count": null,
      "metadata": {
        "id": "mAx82GIeXx9l"
      },
      "outputs": [],
      "source": []
    },
    {
      "cell_type": "markdown",
      "metadata": {
        "id": "eqxd7ssGXx9l"
      },
      "source": [
        "#### 69. How to get the diagonal of a dot product? (★★★) \n",
        "(**hint**: np.diag)"
      ]
    },
    {
      "cell_type": "code",
      "execution_count": null,
      "metadata": {
        "id": "l7_-bne-Xx9m"
      },
      "outputs": [],
      "source": []
    },
    {
      "cell_type": "markdown",
      "metadata": {
        "id": "0cjicghzXx9m"
      },
      "source": [
        "#### 70. Consider the vector \\[1, 2, 3, 4, 5\\], how to build a new vector with 3 consecutive zeros interleaved between each value? (★★★) \n",
        "(**hint**: array\\[::4\\])"
      ]
    },
    {
      "cell_type": "code",
      "execution_count": null,
      "metadata": {
        "id": "dFkorIaDXx9m"
      },
      "outputs": [],
      "source": []
    },
    {
      "cell_type": "markdown",
      "metadata": {
        "id": "vNV6GW9MXx9m"
      },
      "source": [
        "#### 71. Consider an array of dimension (5,5,3), how to mulitply it by an array with dimensions (5,5)? (★★★) \n",
        "(**hint**: array\\[:, :, None\\])"
      ]
    },
    {
      "cell_type": "code",
      "execution_count": null,
      "metadata": {
        "collapsed": true,
        "id": "LCLKV5vdXx9m"
      },
      "outputs": [],
      "source": []
    },
    {
      "cell_type": "markdown",
      "metadata": {
        "id": "Y6zD9UEwXx9m"
      },
      "source": [
        "#### 72. How to swap two rows of an array? (★★★) \n",
        "(**hint**: array\\[\\[\\]\\] = array\\[\\[\\]\\])"
      ]
    },
    {
      "cell_type": "code",
      "execution_count": null,
      "metadata": {
        "id": "6wR6eZruXx9m"
      },
      "outputs": [],
      "source": []
    },
    {
      "cell_type": "markdown",
      "metadata": {
        "id": "VgA265GfXx9n"
      },
      "source": [
        "#### 73. Consider a set of 10 triplets describing 10 triangles (with shared vertices), find the set of unique line segments composing all the  triangles (★★★) \n",
        "(**hint**: repeat, np.roll, np.sort, view, np.unique)"
      ]
    },
    {
      "cell_type": "code",
      "execution_count": null,
      "metadata": {
        "id": "M8kuEEXsXx9n"
      },
      "outputs": [],
      "source": []
    },
    {
      "cell_type": "markdown",
      "metadata": {
        "id": "eB55GAgYXx9n"
      },
      "source": [
        "#### 74. Given an array C that is a bincount, how to produce an array A such that np.bincount(A) == C? (★★★) \n",
        "(**hint**: np.repeat)"
      ]
    },
    {
      "cell_type": "code",
      "execution_count": null,
      "metadata": {
        "id": "f-_y5nOkXx9n"
      },
      "outputs": [],
      "source": []
    },
    {
      "cell_type": "markdown",
      "metadata": {
        "id": "2aVz0FpxXx9n"
      },
      "source": [
        "#### 75. How to compute averages using a sliding window over an array? (★★★) \n",
        "(**hint**: np.cumsum)"
      ]
    },
    {
      "cell_type": "code",
      "execution_count": null,
      "metadata": {
        "id": "xJKHiqG2Xx9n"
      },
      "outputs": [],
      "source": []
    },
    {
      "cell_type": "markdown",
      "metadata": {
        "id": "mueVAgLBXx9o"
      },
      "source": [
        "#### 76. Consider a one-dimensional array Z, build a two-dimensional array whose first row is (Z\\[0\\],Z\\[1\\],Z\\[2\\]) and each subsequent row is  shifted by 1 (last row should be (Z\\[-3\\],Z\\[-2\\],Z\\[-1\\]) (★★★) \n",
        "(**hint**: from numpy.lib import stride_tricks)"
      ]
    },
    {
      "cell_type": "code",
      "execution_count": null,
      "metadata": {
        "id": "y8u48rMkXx9o"
      },
      "outputs": [],
      "source": []
    },
    {
      "cell_type": "markdown",
      "metadata": {
        "id": "iRxGcjwPXx9o"
      },
      "source": [
        "#### 77. How to negate a boolean, or to change the sign of a float inplace? (★★★) \n",
        "(**hint**: np.logical_not, np.negative)"
      ]
    },
    {
      "cell_type": "code",
      "execution_count": null,
      "metadata": {
        "id": "t4vFmnj0Xx9o"
      },
      "outputs": [],
      "source": []
    },
    {
      "cell_type": "markdown",
      "metadata": {
        "id": "fc7E4WHoXx9o"
      },
      "source": [
        "#### 78. Consider 2 sets of points P0,P1 describing lines (2d) and a point p, how to compute distance from p to each line i  (P0\\[i\\],P1\\[i\\])? (★★★)"
      ]
    },
    {
      "cell_type": "code",
      "execution_count": null,
      "metadata": {
        "id": "0A3WCu-LXx9o"
      },
      "outputs": [],
      "source": []
    },
    {
      "cell_type": "markdown",
      "metadata": {
        "id": "Vc5Zo5IjXx9o"
      },
      "source": [
        "#### 79. Consider 2 sets of points P0,P1 describing lines (2d) and a set of points P, how to compute distance from each point j (P\\[j\\]) to each line i (P0\\[i\\],P1\\[i\\])? (★★★)"
      ]
    },
    {
      "cell_type": "code",
      "execution_count": null,
      "metadata": {
        "id": "5CGrfICjXx9o"
      },
      "outputs": [],
      "source": []
    },
    {
      "cell_type": "markdown",
      "metadata": {
        "id": "AhReF3EIXx9o"
      },
      "source": [
        "#### 80. Consider an arbitrary array, write a function that extract a subpart with a fixed shape and centered on a given element (pad with a `fill` value when necessary) (★★★) \n",
        "(**hint**: minimum, maximum)"
      ]
    },
    {
      "cell_type": "code",
      "execution_count": null,
      "metadata": {
        "id": "bHYtY6r7Xx9p"
      },
      "outputs": [],
      "source": []
    },
    {
      "cell_type": "markdown",
      "metadata": {
        "id": "9M8MUpqTXx9p"
      },
      "source": [
        "#### 81. Consider an array Z = \\[1,2,3,4,5,6,7,8,9,10,11,12,13,14\\], how to generate an array R = \\[\\[1,2,3,4\\], \\[2,3,4,5\\], \\[3,4,5,6\\], ..., \\[11,12,13,14\\]\\]? (★★★) \n",
        "(**hint**: stride\\_tricks.as\\_strided)"
      ]
    },
    {
      "cell_type": "code",
      "execution_count": null,
      "metadata": {
        "id": "MLawQpSZXx9p"
      },
      "outputs": [],
      "source": []
    },
    {
      "cell_type": "markdown",
      "metadata": {
        "id": "Fib0R3knXx9p"
      },
      "source": [
        "#### 82. Compute a matrix rank (★★★) \n",
        "(**hint**: np.linalg.svd) (suggestion: np.linalg.svd)"
      ]
    },
    {
      "cell_type": "code",
      "execution_count": null,
      "metadata": {
        "id": "9mozl3UmXx9p"
      },
      "outputs": [],
      "source": []
    },
    {
      "cell_type": "markdown",
      "metadata": {
        "id": "8ozp5hRnXx9p"
      },
      "source": [
        "#### 83. How to find the most frequent value in an array? \n",
        "(**hint**: np.bincount, argmax)"
      ]
    },
    {
      "cell_type": "code",
      "execution_count": null,
      "metadata": {
        "id": "NQtt8WSPXx9p"
      },
      "outputs": [],
      "source": []
    },
    {
      "cell_type": "markdown",
      "metadata": {
        "id": "fG0lcGXTXx9p"
      },
      "source": [
        "#### 84. Extract all the contiguous 3x3 blocks from a random 10x10 matrix (★★★) \n",
        "(**hint**: stride\\_tricks.as\\_strided)"
      ]
    },
    {
      "cell_type": "code",
      "execution_count": null,
      "metadata": {
        "id": "CTxki3DlXx9p"
      },
      "outputs": [],
      "source": []
    },
    {
      "cell_type": "markdown",
      "metadata": {
        "id": "Tyirby0NXx9p"
      },
      "source": [
        "#### 85. Create a 2D array subclass such that Z\\[i,j\\] == Z\\[j,i\\] (★★★) \n",
        "(**hint**: class method)"
      ]
    },
    {
      "cell_type": "code",
      "execution_count": null,
      "metadata": {
        "id": "ONU-0DMCXx9q"
      },
      "outputs": [],
      "source": []
    },
    {
      "cell_type": "markdown",
      "metadata": {
        "id": "Smx2KLguXx9q"
      },
      "source": [
        "#### 86. Consider a set of p matrices wich shape (n,n) and a set of p vectors with shape (n,1). How to compute the sum of of the p matrix products at once? (result has shape (n,1)) (★★★) \n",
        "(**hint**: np.tensordot)"
      ]
    },
    {
      "cell_type": "code",
      "execution_count": null,
      "metadata": {
        "id": "L_OhnenFXx9q"
      },
      "outputs": [],
      "source": []
    },
    {
      "cell_type": "markdown",
      "metadata": {
        "id": "NubwaE-9Xx9q"
      },
      "source": [
        "#### 87. Consider a 16x16 array, how to get the block-sum (block size is 4x4)? (★★★) \n",
        "(**hint**: np.add.reduceat)"
      ]
    },
    {
      "cell_type": "code",
      "execution_count": null,
      "metadata": {
        "id": "6XI1h4V7Xx9q"
      },
      "outputs": [],
      "source": []
    },
    {
      "cell_type": "markdown",
      "metadata": {
        "id": "s-Qsn2JSXx9q"
      },
      "source": [
        "#### 88. How to implement the Game of Life using numpy arrays? (★★★)"
      ]
    },
    {
      "cell_type": "code",
      "execution_count": null,
      "metadata": {
        "id": "2V4b8BndXx9q"
      },
      "outputs": [],
      "source": []
    },
    {
      "cell_type": "markdown",
      "metadata": {
        "id": "OpjezZxPXx9q"
      },
      "source": [
        "#### 89. How to get the n largest values of an array (★★★) \n",
        "(**hint**: np.argsort | np.argpartition)"
      ]
    },
    {
      "cell_type": "code",
      "execution_count": null,
      "metadata": {
        "id": "EKIYKIGmXx9q"
      },
      "outputs": [],
      "source": []
    },
    {
      "cell_type": "markdown",
      "metadata": {
        "id": "5pYZaKTyXx9q"
      },
      "source": [
        "#### 90. Given an arbitrary number of vectors, build the cartesian product (every combinations of every item) (★★★) \n",
        "(**hint**: np.indices)"
      ]
    },
    {
      "cell_type": "code",
      "execution_count": null,
      "metadata": {
        "scrolled": true,
        "id": "_-c-WdooXx9q"
      },
      "outputs": [],
      "source": []
    },
    {
      "cell_type": "markdown",
      "metadata": {
        "id": "lxl51YYjXx9q"
      },
      "source": [
        "#### 91. How to create a record array from a regular array? (★★★) \n",
        "(**hint**: np.core.records.fromarrays)"
      ]
    },
    {
      "cell_type": "code",
      "execution_count": null,
      "metadata": {
        "id": "rItPl5nAXx9q"
      },
      "outputs": [],
      "source": []
    },
    {
      "cell_type": "markdown",
      "metadata": {
        "id": "_UjZ0dZwXx9q"
      },
      "source": [
        "#### 92. Consider a large vector Z, compute Z to the power of 3 using 3 different methods (★★★) \n",
        "(**hint**: np.power, \\*, np.einsum)"
      ]
    },
    {
      "cell_type": "code",
      "execution_count": null,
      "metadata": {
        "id": "rYmtko8NXx9r"
      },
      "outputs": [],
      "source": []
    },
    {
      "cell_type": "markdown",
      "metadata": {
        "id": "5PRWBkEOXx9r"
      },
      "source": [
        "#### 93. Consider two arrays A and B of shape (8,3) and (2,2). How to find rows of A that contain elements of each row of B regardless of the order of the elements in B? (★★★) \n",
        "(**hint**: np.where)"
      ]
    },
    {
      "cell_type": "code",
      "execution_count": null,
      "metadata": {
        "id": "LKIehFZEXx9r"
      },
      "outputs": [],
      "source": []
    },
    {
      "cell_type": "markdown",
      "metadata": {
        "id": "JMjuSKg1Xx9r"
      },
      "source": [
        "#### 94. Considering a 10x3 matrix, extract rows with unequal values (e.g. \\[2,2,3\\]) (★★★)"
      ]
    },
    {
      "cell_type": "code",
      "execution_count": null,
      "metadata": {
        "id": "oxBEa62RXx9r"
      },
      "outputs": [],
      "source": []
    },
    {
      "cell_type": "markdown",
      "metadata": {
        "id": "3AuHaQwEXx9r"
      },
      "source": [
        "#### 95. Convert a vector of ints into a matrix binary representation (★★★) \n",
        "(**hint**: np.unpackbits)"
      ]
    },
    {
      "cell_type": "code",
      "execution_count": null,
      "metadata": {
        "id": "XBtBmcjbXx9r"
      },
      "outputs": [],
      "source": []
    },
    {
      "cell_type": "markdown",
      "metadata": {
        "id": "41VHAsniXx9r"
      },
      "source": [
        "#### 96. Given a two dimensional array, how to extract unique rows? (★★★) \n",
        "(**hint**: np.ascontiguousarray)"
      ]
    },
    {
      "cell_type": "code",
      "execution_count": null,
      "metadata": {
        "id": "ucAz6zoaXx9r"
      },
      "outputs": [],
      "source": []
    },
    {
      "cell_type": "markdown",
      "metadata": {
        "id": "J5sj0ShcXx9r"
      },
      "source": [
        "#### 97. Considering 2 vectors A & B, write the einsum equivalent of inner, outer, sum, and mul function (★★★) \n",
        "(**hint**: np.einsum)"
      ]
    },
    {
      "cell_type": "code",
      "execution_count": null,
      "metadata": {
        "id": "I0Icz6TWXx9r"
      },
      "outputs": [],
      "source": []
    },
    {
      "cell_type": "markdown",
      "metadata": {
        "id": "zQAGNdc-Xx9r"
      },
      "source": [
        "#### 98. Considering a path described by two vectors (X,Y), how to sample it using equidistant samples (★★★)? \n",
        "(**hint**: np.cumsum, np.interp)"
      ]
    },
    {
      "cell_type": "code",
      "execution_count": null,
      "metadata": {
        "collapsed": true,
        "id": "81eYpVtiXx9r"
      },
      "outputs": [],
      "source": []
    },
    {
      "cell_type": "markdown",
      "metadata": {
        "id": "fnR7Ue2XXx9r"
      },
      "source": [
        "#### 99. Given an integer n and a 2D array X, select from X the rows which can be interpreted as draws from a multinomial distribution with n degrees, i.e., the rows which only contain integers and which sum to n. (★★★) \n",
        "(**hint**: np.logical\\_and.reduce, np.mod)"
      ]
    },
    {
      "cell_type": "code",
      "execution_count": null,
      "metadata": {
        "id": "mX511iDIXx9s"
      },
      "outputs": [],
      "source": []
    },
    {
      "cell_type": "markdown",
      "metadata": {
        "id": "SRV3GxqTXx9s"
      },
      "source": [
        "#### 100. Compute bootstrapped 95% confidence intervals for the mean of a 1D array X (i.e., resample the elements of an array with replacement N times, compute the mean of each sample, and then compute percentiles over the means). (★★★) \n",
        "(**hint**: np.percentile)"
      ]
    },
    {
      "cell_type": "code",
      "execution_count": null,
      "metadata": {
        "id": "entzwY1gXx9s"
      },
      "outputs": [],
      "source": []
    }
  ],
  "metadata": {
    "kernelspec": {
      "display_name": "Python 3",
      "language": "python",
      "name": "python3"
    },
    "language_info": {
      "codemirror_mode": {
        "name": "ipython",
        "version": 3
      },
      "file_extension": ".py",
      "mimetype": "text/x-python",
      "name": "python",
      "nbconvert_exporter": "python",
      "pygments_lexer": "ipython3",
      "version": "3.8.3"
    },
    "colab": {
      "provenance": [],
      "include_colab_link": true
    }
  },
  "nbformat": 4,
  "nbformat_minor": 0
}