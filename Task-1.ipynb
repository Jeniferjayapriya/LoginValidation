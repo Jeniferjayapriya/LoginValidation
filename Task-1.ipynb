{
 "cells": [
  {
   "cell_type": "code",
   "execution_count": null,
   "id": "240880ec",
   "metadata": {},
   "outputs": [],
   "source": [
    "import re\n",
    "User_Name = input('Enter User name')\n",
    "email = input('Enter email')\n",
    "\n",
    "regex = '^[a-z0-9]+[\\._]?[a-z0-9]+[@]\\w+[.]\\w{2,3}$'  \n",
    "  \n",
    "def check(email):   \n",
    "  \n",
    "    if(re.search(regex,email)):   \n",
    "        print(\"Valid Email\")   \n",
    "    else:   \n",
    "        print(\"Invalid Email\")  \n",
    "check(email)\n",
    "password = input('Enter password')\n",
    "pwd = '[0-9A-Za-z]'\n",
    "if(len(password))>=5 and (len(password))<=16:\n",
    "    check(password)\n",
    "else:\n",
    "        print('Incorrect password')\n",
    "        \n",
    "def check(password):\n",
    "    if(re.search(pwd,password)):\n",
    "        print(\"Login succssful\")\n",
    "    else:\n",
    "        print(\"Wrong password\")\n"
   ]
  },
  {
   "cell_type": "code",
   "execution_count": null,
   "id": "fa4d1808",
   "metadata": {},
   "outputs": [],
   "source": []
  },
  {
   "cell_type": "code",
   "execution_count": null,
   "id": "316b75e1",
   "metadata": {},
   "outputs": [],
   "source": []
  }
 ],
 "metadata": {
  "kernelspec": {
   "display_name": "Python 3 (ipykernel)",
   "language": "python",
   "name": "python3"
  },
  "language_info": {
   "codemirror_mode": {
    "name": "ipython",
    "version": 3
   },
   "file_extension": ".py",
   "mimetype": "text/x-python",
   "name": "python",
   "nbconvert_exporter": "python",
   "pygments_lexer": "ipython3",
   "version": "3.9.12"
  }
 },
 "nbformat": 4,
 "nbformat_minor": 5
}
